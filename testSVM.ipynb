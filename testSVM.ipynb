{
  "nbformat": 4,
  "nbformat_minor": 0,
  "metadata": {
    "colab": {
      "name": "testSVM.ipynb",
      "provenance": [],
      "private_outputs": true,
      "collapsed_sections": [],
      "authorship_tag": "ABX9TyPHJ5+5Arc60wC/WZvST/IU",
      "include_colab_link": true
    },
    "kernelspec": {
      "name": "python3",
      "display_name": "Python 3"
    }
  },
  "cells": [
    {
      "cell_type": "markdown",
      "metadata": {
        "id": "view-in-github",
        "colab_type": "text"
      },
      "source": [
        "<a href=\"https://colab.research.google.com/github/4D1B/Voice-Recognition-/blob/master/testSVM.ipynb\" target=\"_parent\"><img src=\"https://colab.research.google.com/assets/colab-badge.svg\" alt=\"Open In Colab\"/></a>"
      ]
    },
    {
      "cell_type": "code",
      "metadata": {
        "id": "-8xeH5stWWWk",
        "colab_type": "code",
        "colab": {}
      },
      "source": [
        "pip install SpeechRecognition"
      ],
      "execution_count": null,
      "outputs": []
    },
    {
      "cell_type": "code",
      "metadata": {
        "id": "eouCof37eJ1q",
        "colab_type": "code",
        "colab": {}
      },
      "source": [
        "pip install python_speech_features"
      ],
      "execution_count": null,
      "outputs": []
    },
    {
      "cell_type": "code",
      "metadata": {
        "id": "JggXwAW-ePJT",
        "colab_type": "code",
        "colab": {}
      },
      "source": [
        "from python_speech_features import mfcc\n",
        "from python_speech_features import logfbank\n",
        "import scipy.io.wavfile as wav\n",
        "import pandas as pd \n",
        "import numpy as np\n",
        "from sklearn.linear_model import LinearRegression\n",
        "import matplotlib.pyplot as plt"
      ],
      "execution_count": null,
      "outputs": []
    },
    {
      "cell_type": "code",
      "metadata": {
        "id": "GcjuXYHkXVJa",
        "colab_type": "code",
        "colab": {}
      },
      "source": [
        "(rate,sig) = wav.read(\"P1.wav\")\n",
        "nfft= 2400;\n",
        "data1 = mfcc(sig,rate)\n",
        "\n",
        "\n",
        "(rate,sig) = wav.read(\"P3.wav\")\n",
        "nfft= 2400;\n",
        "temp1= mfcc(sig,rate)\n",
        "\n",
        "(rate,sig) = wav.read(\"P4.wav\")\n",
        "nfft= 2400;\n",
        "temp2 = mfcc(sig,rate)\n",
        "\n",
        "(rate,sig) = wav.read(\"P5.wav\")\n",
        "nfft= 2400;\n",
        "temp3 = mfcc(sig,rate)\n",
        "\n",
        "(rate,sig) = wav.read(\"P6.wav\")\n",
        "nfft= 2400;\n",
        "temp4 = mfcc(sig,rate)\n",
        "\n",
        "(rate,sig) = wav.read(\"P7.wav\")\n",
        "nfft= 2400;\n",
        "temp5 =  mfcc(sig,rate)\n",
        "\n",
        "(rate,sig) = wav.read(\"P8.wav\")\n",
        "nfft= 2400;\n",
        "temp6 = mfcc(sig,rate)\n",
        "\n",
        "\n",
        "(rate,sig) = wav.read(\"P1.wav\")\n",
        "nfft= 2400;\n",
        "data2 = mfcc(sig,rate)\n",
        "\n",
        "data1.shape\n",
        "df1=pd.DataFrame(data=data1[0:,0:],\n",
        "            index=[i for i in range(data1.shape[0])],\n",
        "            columns=['f'+str(i) for i in range(data1.shape[1])])\n",
        "\n",
        "df1['mean'] = df1.mean(axis=1)\n",
        "\n",
        "\n",
        "temp1.shape\n",
        "temp1=pd.DataFrame(data=temp1[0:,0:],\n",
        "            index=[i for i in range(temp1.shape[0])],\n",
        "            columns=['f'+str(i) for i in range(temp1.shape[1])])\n",
        "\n",
        "temp1['mean'] = temp1.mean(axis=1)\n",
        "\n",
        "temp2.shape\n",
        "temp2=pd.DataFrame(data=temp2[0:,0:],\n",
        "            index=[i for i in range(temp2.shape[0])],\n",
        "            columns=['f'+str(i) for i in range(temp2.shape[1])])\n",
        "\n",
        "temp2['mean'] = temp2.mean(axis=1)\n",
        "\n",
        "\n",
        "temp3.shape\n",
        "temp3=pd.DataFrame(data=temp3[0:,0:],\n",
        "            index=[i for i in range(temp3.shape[0])],\n",
        "            columns=['f'+str(i) for i in range(temp3.shape[1])])\n",
        "\n",
        "temp3['mean'] = temp3.mean(axis=1)\n",
        "\n",
        "temp4.shape\n",
        "temp4=pd.DataFrame(data=temp4[0:,0:],\n",
        "            index=[i for i in range(temp4.shape[0])],\n",
        "            columns=['f'+str(i) for i in range(temp4.shape[1])])\n",
        "\n",
        "temp4['mean'] = temp4.mean(axis=1)\n",
        "\n",
        "temp5.shape\n",
        "temp5=pd.DataFrame(data=temp5[0:,0:],\n",
        "            index=[i for i in range(temp5.shape[0])],\n",
        "            columns=['f'+str(i) for i in range(temp5.shape[1])])\n",
        "\n",
        "temp5['mean'] = temp5.mean(axis=1)\n",
        "\n",
        "temp6.shape\n",
        "temp6=pd.DataFrame(data=temp6[0:,0:],\n",
        "            index=[i for i in range(temp6.shape[0])],\n",
        "            columns=['f'+str(i) for i in range(temp6.shape[1])])\n",
        "\n",
        "temp6['mean'] = temp6.mean(axis=1)\n",
        "\n",
        "\n",
        "\n",
        "df1= df1.append(temp1)\n",
        "df1=df1.append(temp2)\n",
        "df1=df1.append(temp3)\n",
        "df1=df1.append(temp4)\n",
        "df1=df1.append(temp5)\n",
        "df1=df1.append(temp6)\n",
        "\n",
        "\n",
        "\n",
        "\n",
        "\n",
        "data2.shape\n",
        "df2=pd.DataFrame(data=data2[0:,0:],\n",
        "            index=[i for i in range(data2.shape[0])],\n",
        "            columns=['f'+str(i) for i in range(data2.shape[1])])\n",
        "\n",
        "df2['mean'] = df2.mean(axis=1)\n",
        "\n"
      ],
      "execution_count": null,
      "outputs": []
    },
    {
      "cell_type": "code",
      "metadata": {
        "id": "GsyMDZ-9YYU4",
        "colab_type": "code",
        "colab": {}
      },
      "source": [
        "print(data2)\n",
        "plt.plot(data2)\n",
        "plt.show()"
      ],
      "execution_count": null,
      "outputs": []
    },
    {
      "cell_type": "code",
      "metadata": {
        "id": "efFhRG0SvyIJ",
        "colab_type": "code",
        "colab": {}
      },
      "source": [
        "\n"
      ],
      "execution_count": null,
      "outputs": []
    },
    {
      "cell_type": "code",
      "metadata": {
        "id": "RRP8oHjGGRw9",
        "colab_type": "code",
        "colab": {}
      },
      "source": [
        ""
      ],
      "execution_count": null,
      "outputs": []
    },
    {
      "cell_type": "code",
      "metadata": {
        "id": "elpoSCdkGRrT",
        "colab_type": "code",
        "colab": {}
      },
      "source": [
        "df1"
      ],
      "execution_count": null,
      "outputs": []
    },
    {
      "cell_type": "code",
      "metadata": {
        "id": "A3IjrNPwxdwK",
        "colab_type": "code",
        "colab": {}
      },
      "source": [
        "df1['index_col'] = df1.index\n",
        "y = df1.iloc[:, -1].values\n",
        "y = y.reshape(len(y),1)\n",
        "X=  df1['mean'].values/2\n",
        "\n",
        "X= X.reshape(-1,1)\n",
        "# Feature Scaling\n",
        "print(X)\n",
        "\n",
        "\n",
        "df2['index_col'] = df2.index\n",
        "y1 = df2.iloc[:, -1].values\n",
        "y1 = y1.reshape(len(y1),1)\n",
        "X1=  df2['mean'].values /2\n",
        "X1 = X1.reshape(-1,1)\n",
        "# Feature Scaling\n",
        "\n",
        "\n",
        "\n"
      ],
      "execution_count": null,
      "outputs": []
    },
    {
      "cell_type": "code",
      "metadata": {
        "id": "EowC_Ww1YsQO",
        "colab_type": "code",
        "colab": {}
      },
      "source": [
        "from sklearn import preprocessing\n",
        "from sklearn import utils\n",
        "lab_enc = preprocessing.LabelEncoder()"
      ],
      "execution_count": null,
      "outputs": []
    },
    {
      "cell_type": "code",
      "metadata": {
        "id": "3RsJ1oygpavt",
        "colab_type": "code",
        "colab": {}
      },
      "source": [
        "from sklearn.preprocessing import StandardScaler\n",
        "sc = StandardScaler()\n",
        "X_train = sc.fit_transform(X)\n",
        "y_train = sc.transform(y)\n",
        "\n",
        "\n",
        "from sklearn.preprocessing import StandardScaler\n",
        "sc = StandardScaler()\n",
        "X_test = sc.fit_transform(X1)\n",
        "y_test = sc.transform(y1)\n"
      ],
      "execution_count": null,
      "outputs": []
    },
    {
      "cell_type": "code",
      "metadata": {
        "id": "Q4s3puiHayVC",
        "colab_type": "code",
        "colab": {}
      },
      "source": [
        "X_train = lab_enc.fit_transform(X_train)\n",
        "y_train = lab_enc.fit_transform(y_train)\n",
        "\n",
        "\n",
        "X_test= lab_enc.fit_transform(X_test)\n",
        "y_test = lab_enc.fit_transform(y_test)\n"
      ],
      "execution_count": null,
      "outputs": []
    },
    {
      "cell_type": "code",
      "metadata": {
        "id": "LU7OLdH-bBHz",
        "colab_type": "code",
        "colab": {}
      },
      "source": [
        "print(utils.multiclass.type_of_target(X_train))\n",
        "X_train=X_train.reshape(-1,1)\n",
        "print(utils.multiclass.type_of_target(X_test))\n",
        "X_test=X_test.reshape(-1,1)\n",
        "\n",
        "print(utils.multiclass.type_of_target(X_test))\n",
        "X_test=X_test.reshape(-1,1)\n",
        "print(utils.multiclass.type_of_target(y_test))\n",
        "y_test=y_test.reshape(-1,1)"
      ],
      "execution_count": null,
      "outputs": []
    },
    {
      "cell_type": "code",
      "metadata": {
        "id": "qhY2mZ4izZdc",
        "colab_type": "code",
        "colab": {}
      },
      "source": [
        "from sklearn.svm import SVC\n",
        "from sklearn.metrics import accuracy_score\n",
        "# Training the SVM model on the Training set\n",
        "clf = SVC(kernel = 'rbf', C = 4, gamma = 0.01,probability=True)\n",
        "\n",
        "clf.fit(X_train, y_train)\n",
        "\n",
        "\n"
      ],
      "execution_count": null,
      "outputs": []
    },
    {
      "cell_type": "code",
      "metadata": {
        "id": "ZFvZvizGHqJK",
        "colab_type": "code",
        "colab": {}
      },
      "source": [
        "print(accuracy_score(clf.predict(X_train), y_train))"
      ],
      "execution_count": null,
      "outputs": []
    },
    {
      "cell_type": "code",
      "metadata": {
        "id": "jmd7sFPabKP7",
        "colab_type": "code",
        "colab": {}
      },
      "source": [
        "print(accuracy_score(clf.predict(X_test), y_test))"
      ],
      "execution_count": null,
      "outputs": []
    },
    {
      "cell_type": "code",
      "metadata": {
        "id": "aMeySTlNj0-y",
        "colab_type": "code",
        "colab": {}
      },
      "source": [
        "from sklearn.metrics import accuracy_score\n",
        "\n",
        "print(accuracy_score(clf.predict(X_train), y_train))"
      ],
      "execution_count": null,
      "outputs": []
    },
    {
      "cell_type": "code",
      "metadata": {
        "id": "7OTEbNfF5fdf",
        "colab_type": "code",
        "colab": {}
      },
      "source": [
        "from sklearn import preprocessing, svm\n",
        "clf = svm.SVR()\n",
        "clf.fit(X_train, y_train)\n",
        "confidence = clf.score(X_test, y_test)\n",
        "print(confidence)\n"
      ],
      "execution_count": null,
      "outputs": []
    },
    {
      "cell_type": "code",
      "metadata": {
        "id": "FY0ld3TI15hJ",
        "colab_type": "code",
        "colab": {}
      },
      "source": [
        "from sklearn.metrics import explained_variance_score\n",
        "explained_variance_score(X_test, y_test)"
      ],
      "execution_count": null,
      "outputs": []
    },
    {
      "cell_type": "code",
      "metadata": {
        "id": "GNoJ57Zuwhvv",
        "colab_type": "code",
        "colab": {}
      },
      "source": [
        "import matplotlib.pyplot as plt"
      ],
      "execution_count": null,
      "outputs": []
    },
    {
      "cell_type": "code",
      "metadata": {
        "id": "QZlM6f-8iTUF",
        "colab_type": "code",
        "colab": {}
      },
      "source": [
        "# Visualising the Linear Regression results\n",
        "plt.scatter(X_train, y_train, color = 'Black')\n",
        "plt.plot(X_train, regressor.predict(X_train), color = 'blue')\n",
        "plt.title('regression test (Linear Regression)')\n",
        "plt.xlabel('date')\n",
        "plt.ylabel('infected')\n",
        "plt.show()"
      ],
      "execution_count": null,
      "outputs": []
    },
    {
      "cell_type": "code",
      "metadata": {
        "id": "M-qLLLq-z3_v",
        "colab_type": "code",
        "colab": {}
      },
      "source": [
        "print(X.shape)\n",
        "\n",
        "X_test=  X;\n",
        "print(X_test.shape)"
      ],
      "execution_count": null,
      "outputs": []
    },
    {
      "cell_type": "code",
      "metadata": {
        "id": "y5PTR_CA45sf",
        "colab_type": "code",
        "colab": {}
      },
      "source": [
        "scaler = StandardScaler()\n",
        "X_scaled = scaler.fit_transform(X)\n",
        "X_test_scaled = scaler.transform(X_test)"
      ],
      "execution_count": null,
      "outputs": []
    },
    {
      "cell_type": "code",
      "metadata": {
        "id": "QYEarJ9F48II",
        "colab_type": "code",
        "colab": {}
      },
      "source": [
        "pca = PCA(n_components=1).fit(X_scaled)\n",
        "X_pca = pca.transform(X_scaled)\n",
        "X_test_pca = pca.transform(X_test_scaled)\n",
        "\n",
        "print(sum(pca.explained_variance_ratio_)) "
      ],
      "execution_count": null,
      "outputs": []
    },
    {
      "cell_type": "code",
      "metadata": {
        "id": "LqgbE5Xe5FqN",
        "colab_type": "code",
        "colab": {}
      },
      "source": [
        ""
      ],
      "execution_count": null,
      "outputs": []
    },
    {
      "cell_type": "code",
      "metadata": {
        "id": "zxg8cBdo5Pyk",
        "colab_type": "code",
        "colab": {}
      },
      "source": [
        "X_train, X_val, y_train, y_val = train_test_split(X_pca, y, test_size = 0.9, random_state = 42, shuffle = True,train_size = 1.0)"
      ],
      "execution_count": null,
      "outputs": []
    },
    {
      "cell_type": "code",
      "metadata": {
        "id": "JVvsh48k5Ne9",
        "colab_type": "code",
        "colab": {}
      },
      "source": [
        "from sklearn.model_selection import train_test_split"
      ],
      "execution_count": null,
      "outputs": []
    }
  ]
}