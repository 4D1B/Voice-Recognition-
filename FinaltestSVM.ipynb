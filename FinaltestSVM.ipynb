{
  "nbformat": 4,
  "nbformat_minor": 0,
  "metadata": {
    "colab": {
      "name": "Copy of Copy of testSVM.ipynb",
      "provenance": [],
      "private_outputs": true,
      "collapsed_sections": [],
      "authorship_tag": "ABX9TyPEB7KKfIwGX7TUQ4F6bVor",
      "include_colab_link": true
    },
    "kernelspec": {
      "name": "python3",
      "display_name": "Python 3"
    }
  },
  "cells": [
    {
      "cell_type": "markdown",
      "metadata": {
        "id": "view-in-github",
        "colab_type": "text"
      },
      "source": [
        "<a href=\"https://colab.research.google.com/github/4D1B/Voice-Recognition-/blob/master/Copy_of_testSVM.ipynb\" target=\"_parent\"><img src=\"https://colab.research.google.com/assets/colab-badge.svg\" alt=\"Open In Colab\"/></a>"
      ]
    },
    {
      "cell_type": "code",
      "metadata": {
        "id": "-8xeH5stWWWk"
      },
      "source": [
        "pip install SpeechRecognition"
      ],
      "execution_count": null,
      "outputs": []
    },
    {
      "cell_type": "code",
      "metadata": {
        "id": "eouCof37eJ1q"
      },
      "source": [
        "pip install python_speech_features"
      ],
      "execution_count": null,
      "outputs": []
    },
    {
      "cell_type": "code",
      "metadata": {
        "id": "JggXwAW-ePJT"
      },
      "source": [
        "from python_speech_features import mfcc\n",
        "from python_speech_features import logfbank\n",
        "import scipy.io.wavfile as wav\n",
        "import pandas as pd \n",
        "import numpy as np\n",
        "from sklearn.linear_model import LinearRegression\n",
        "import matplotlib.pyplot as plt"
      ],
      "execution_count": null,
      "outputs": []
    },
    {
      "cell_type": "code",
      "metadata": {
        "id": "GcjuXYHkXVJa"
      },
      "source": [
        "(rate,sig) = wav.read(\"70968train.wav\")\n",
        "nfft= 2400;\n",
        "data1 = mfcc(sig,rate)\n",
        "\n",
        "\n",
        "\n",
        "(rate,sig) = wav.read(\"test.wav\")\n",
        "nfft= 2400;\n",
        "data2 = mfcc(sig,rate)\n",
        "# adding above data for test model\n",
        "print(data2)\n",
        "\n",
        "\n",
        "\n",
        "\n",
        "\n",
        "data1.shape\n",
        "df1=pd.DataFrame(data=data1[0:,0:],\n",
        "            index=[i for i in range(data1.shape[0])],\n",
        "            columns=['f'+str(i) for i in range(data1.shape[1])])\n",
        "\n",
        "df1['mean'] = df1.mean(axis=1)\n",
        "\n",
        "\n",
        "\n",
        "\n",
        "data2.shape\n",
        "df2=pd.DataFrame(data=data2[0:,0:],\n",
        "            index=[i for i in range(data2.shape[0])],\n",
        "            columns=['f'+str(i) for i in range(data2.shape[1])])\n",
        "\n",
        "df2['mean'] = df2.mean(axis=1)\n"
      ],
      "execution_count": null,
      "outputs": []
    },
    {
      "cell_type": "code",
      "metadata": {
        "id": "efFhRG0SvyIJ"
      },
      "source": [
        "\n"
      ],
      "execution_count": null,
      "outputs": []
    },
    {
      "cell_type": "code",
      "metadata": {
        "id": "A3IjrNPwxdwK"
      },
      "source": [
        "df1['index_col'] = df1.index\n",
        "y = df1.iloc[:, -1].values\n",
        "y = y.reshape(len(y),1)\n",
        "X= df1['mean'].values\n",
        "# Mean of High and low frequency and addition of ( numcep, nfilt, nfft)\n",
        "X= X.reshape(-1,1)\n",
        "# Scaling\n",
        "\n",
        "\n",
        "df2['index_col'] = df2.index\n",
        "y1 = df2.iloc[:, -1].values\n",
        "y1 = y1.reshape(len(y1),1)\n",
        "X1=   df2['mean'].values\n",
        "\n",
        "X1 = X1.reshape(-1,1)\n",
        "# Scaling\n"
      ],
      "execution_count": null,
      "outputs": []
    },
    {
      "cell_type": "code",
      "metadata": {
        "id": "EowC_Ww1YsQO"
      },
      "source": [
        "from sklearn import preprocessing\n",
        "from sklearn import utils\n",
        "lab_enc = preprocessing.LabelEncoder()"
      ],
      "execution_count": null,
      "outputs": []
    },
    {
      "cell_type": "code",
      "metadata": {
        "id": "3RsJ1oygpavt"
      },
      "source": [
        "from sklearn.preprocessing import StandardScaler\n",
        "sc = StandardScaler()\n",
        "X_train = sc.fit_transform(X)\n",
        "y_train = sc.transform(y)\n",
        "# fit into standard scaler\n",
        "\n",
        "from sklearn.preprocessing import StandardScaler\n",
        "sc = StandardScaler()\n",
        "X_test = sc.fit_transform(X1)\n",
        "y_test = sc.transform(y1)\n"
      ],
      "execution_count": null,
      "outputs": []
    },
    {
      "cell_type": "code",
      "metadata": {
        "id": "Q4s3puiHayVC"
      },
      "source": [
        "X_train = lab_enc.fit_transform(X_train)\n",
        "y_train = lab_enc.fit_transform(y_train)\n",
        "\n",
        "\n",
        "X_test= lab_enc.fit_transform(X_test)\n",
        "y_test = lab_enc.fit_transform(y_test)\n",
        "#label encoding for SVC"
      ],
      "execution_count": null,
      "outputs": []
    },
    {
      "cell_type": "code",
      "metadata": {
        "id": "LU7OLdH-bBHz"
      },
      "source": [
        "\n",
        "X_train=X_train.reshape(-1,1)\n",
        "\n",
        "X_test=X_test.reshape(-1,1)\n",
        "\n",
        "X_test=X_test.reshape(-1,1)\n",
        "print(utils.multiclass.type_of_target(y_test))\n",
        "y_test=y_test.reshape(-1,1)"
      ],
      "execution_count": null,
      "outputs": []
    },
    {
      "cell_type": "code",
      "metadata": {
        "id": "qhY2mZ4izZdc"
      },
      "source": [
        "from sklearn.svm import SVC\n",
        "from sklearn.metrics import accuracy_score\n",
        "# Training the SVM model on the Training set\n",
        "clf = SVC(kernel = 'rbf', C = 4.0, gamma = 0.01,probability=True)\n",
        "\n",
        "clf.fit(X_train, y_train)"
      ],
      "execution_count": null,
      "outputs": []
    },
    {
      "cell_type": "code",
      "metadata": {
        "id": "ZFvZvizGHqJK"
      },
      "source": [
        "print(accuracy_score(clf.predict(X_train), y_train))\n",
        "#accuracy score on same train model"
      ],
      "execution_count": null,
      "outputs": []
    },
    {
      "cell_type": "code",
      "metadata": {
        "id": "jmd7sFPabKP7"
      },
      "source": [
        "print(accuracy_score(clf.predict(X_test), y_test))\n",
        "\n",
        "#accuracy score on test model"
      ],
      "execution_count": null,
      "outputs": []
    },
    {
      "cell_type": "code",
      "metadata": {
        "id": "aMeySTlNj0-y"
      },
      "source": [
        "from sklearn.metrics import accuracy_score\n",
        "\n",
        "print(accuracy_score(clf.predict(X_train), y_train))"
      ],
      "execution_count": null,
      "outputs": []
    },
    {
      "cell_type": "code",
      "metadata": {
        "id": "7OTEbNfF5fdf"
      },
      "source": [
        "from sklearn import preprocessing, svm\n",
        "clf = svm.SVR()\n",
        "clf.fit(X_train, y_train)\n",
        "confidence = clf.score(X_test, y_test)\n",
        "print(confidence)\n"
      ],
      "execution_count": null,
      "outputs": []
    },
    {
      "cell_type": "code",
      "metadata": {
        "id": "FY0ld3TI15hJ"
      },
      "source": [
        "from sklearn.metrics import explained_variance_score\n",
        "explained_variance_score(X_test, y_test)"
      ],
      "execution_count": null,
      "outputs": []
    },
    {
      "cell_type": "code",
      "metadata": {
        "id": "GNoJ57Zuwhvv"
      },
      "source": [
        "import matplotlib.pyplot as plt"
      ],
      "execution_count": null,
      "outputs": []
    },
    {
      "cell_type": "code",
      "metadata": {
        "id": "QZlM6f-8iTUF"
      },
      "source": [
        "\n",
        "plt.plot(X_train)\n",
        "plt.show()"
      ],
      "execution_count": null,
      "outputs": []
    },
    {
      "cell_type": "code",
      "metadata": {
        "id": "LqgbE5Xe5FqN"
      },
      "source": [
        ""
      ],
      "execution_count": null,
      "outputs": []
    }
  ]
}
